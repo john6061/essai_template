{
 "cells": [
  {
   "cell_type": "markdown",
   "metadata": {},
   "source": [
    "# Des classes pour représenter les données"
   ]
  },
  {
   "cell_type": "code",
   "execution_count": 1,
   "metadata": {},
   "outputs": [],
   "source": [
    "case class Prenom(sexe: String, prenom: String, annee: Int, codeDept: Int, nombre: Int)\n",
    "case class Dept(region: Int, codeDept: String, chefLieu: String, typeNom: Int, nom: String, nomEnrichi: String)"
   ]
  },
  {
   "cell_type": "markdown",
   "metadata": {},
   "source": [
    "# Chargement des données\n",
    "1. Créer un dataset pour les prénoms"
   ]
  },
  {
   "cell_type": "code",
   "execution_count": 4,
   "metadata": {},
   "outputs": [],
   "source": [
    "// Pour les conversions implicites de RDDs vers DataFrames\n",
    "val sparkRO = spark // bricolage pour que cela fonctionne dans le notebool (inutile sinon)\n",
    "import sparkRO.implicits._"
   ]
  },
  {
   "cell_type": "code",
   "execution_count": 21,
   "metadata": {},
   "outputs": [
    {
     "name": "stdout",
     "output_type": "stream",
     "text": [
      "+----+-------------+------+--------+-----+\n",
      "|sexe|       prenom|nombre|codeDept|annee|\n",
      "+----+-------------+------+--------+-----+\n",
      "|   1|       WASSIL|     5|      69| 2009|\n",
      "|   1|     ZACHARIA|     3|      69| 2009|\n",
      "|   2|   LEOPOLDINE|     4|      69| 2009|\n",
      "|   2|        LINDA|     9|      69| 2009|\n",
      "|   2|MARIE-TH�R�SE|    41|      57| 1961|\n",
      "|   2|   ROSE-MARIE|    14|      57| 1961|\n",
      "|   2|    ABIGAELLE|     5|      97| 2012|\n",
      "|   2|        A�CHA|     5|      97| 2012|\n",
      "|   2|      JOHANNA|    18|      97| 2012|\n",
      "|   1|         STAN|     3|      97| 2008|\n",
      "|   1|       YANAEL|     5|      97| 2008|\n",
      "|   2|        GRACE|     5|      97| 2008|\n",
      "|   1|       SECKOU|     3|      93| 2011|\n",
      "|   1|        SOREN|     6|      93| 2011|\n",
      "|   2|        DJENA|     3|      93| 2011|\n",
      "|   1|     ANASTASE|    10|      97| 1955|\n",
      "|   1|        DONAT|     4|      97| 1955|\n",
      "|   1|    FLORIBERT|     3|      97| 1955|\n",
      "|   1|       GILDAS|     4|      97| 1955|\n",
      "|   1|      JOAQUIN|     3|      75| 1955|\n",
      "+----+-------------+------+--------+-----+\n",
      "only showing top 20 rows\n",
      "\n"
     ]
    }
   ],
   "source": [
    "val prenoms = spark.read.load(\"prenomsParDeptsEtAnnees.parquet\").as[Prenom]\n",
    "prenoms.createOrReplaceTempView(\"prenoms\")\n",
    "prenoms.show"
   ]
  },
  {
   "cell_type": "markdown",
   "metadata": {},
   "source": [
    "1. Faire de même pour les départements"
   ]
  },
  {
   "cell_type": "code",
   "execution_count": 1,
   "metadata": {
    "scrolled": true
   },
   "outputs": [
    {
     "data": {
      "text/plain": [
       "Name: Syntax Error.\n",
       "Message: \n",
       "StackTrace: "
      ]
     },
     "execution_count": 1,
     "metadata": {},
     "output_type": "execute_result"
    }
   ],
   "source": [
    "//TODO"
   ]
  },
  {
   "cell_type": "markdown",
   "metadata": {},
   "source": [
    "# Interroger les données"
   ]
  },
  {
   "cell_type": "markdown",
   "metadata": {},
   "source": [
    "* La documentation sur Spark SQL est disponible [ici](https://spark.apache.org/docs/latest/sql-programming-guide.html) (de même pour [Dataset](https://spark.apache.org/docs/latest/api/scala/index.html#org.apache.spark.sql.Dataset))\n",
    "* Pour chaque question, vous donnerez la réponse avec le DSL et en SQL"
   ]
  },
  {
   "cell_type": "markdown",
   "metadata": {},
   "source": [
    "1. Donner, pour chaque prénom, son nombre d'occurences"
   ]
  },
  {
   "cell_type": "markdown",
   "metadata": {},
   "source": [
    "## DSL"
   ]
  },
  {
   "cell_type": "code",
   "execution_count": 23,
   "metadata": {},
   "outputs": [
    {
     "name": "stdout",
     "output_type": "stream",
     "text": [
      "+------------+-----------+\n",
      "|      prenom|sum(nombre)|\n",
      "+------------+-----------+\n",
      "|       NORIA|          3|\n",
      "|        ANNA|         90|\n",
      "|        JADE|          7|\n",
      "|     L�ANDRE|          3|\n",
      "|      ELIANE|         75|\n",
      "|     MATTHEW|          4|\n",
      "|      SALOM�|         46|\n",
      "|    ALPHONSE|         72|\n",
      "|      FRANCK|        423|\n",
      "|       MORAD|          8|\n",
      "|       MARAM|          3|\n",
      "|       GRACE|          5|\n",
      "|SAINTE-CROIX|          6|\n",
      "|    FERNANDA|          3|\n",
      "|        JO�L|        110|\n",
      "|      ANNICK|         75|\n",
      "|      LUCILE|          3|\n",
      "|      SANDIE|          5|\n",
      "|      AMEDEE|         10|\n",
      "|       FABIO|         29|\n",
      "+------------+-----------+\n",
      "only showing top 20 rows\n",
      "\n"
     ]
    }
   ],
   "source": [
    "//TODO"
   ]
  },
  {
   "cell_type": "markdown",
   "metadata": {},
   "source": [
    "## SQL"
   ]
  },
  {
   "cell_type": "code",
   "execution_count": 24,
   "metadata": {},
   "outputs": [
    {
     "name": "stdout",
     "output_type": "stream",
     "text": [
      "+------------+-----------+\n",
      "|      prenom|sum(nombre)|\n",
      "+------------+-----------+\n",
      "|       NORIA|          3|\n",
      "|        ANNA|         90|\n",
      "|        JADE|          7|\n",
      "|     L�ANDRE|          3|\n",
      "|      ELIANE|         75|\n",
      "|     MATTHEW|          4|\n",
      "|      SALOM�|         46|\n",
      "|    ALPHONSE|         72|\n",
      "|      FRANCK|        423|\n",
      "|       MORAD|          8|\n",
      "|       MARAM|          3|\n",
      "|       GRACE|          5|\n",
      "|SAINTE-CROIX|          6|\n",
      "|    FERNANDA|          3|\n",
      "|        JO�L|        110|\n",
      "|      ANNICK|         75|\n",
      "|      LUCILE|          3|\n",
      "|      SANDIE|          5|\n",
      "|      AMEDEE|         10|\n",
      "|       FABIO|         29|\n",
      "+------------+-----------+\n",
      "only showing top 20 rows\n",
      "\n"
     ]
    }
   ],
   "source": [
    "//TODO"
   ]
  },
  {
   "cell_type": "markdown",
   "metadata": {},
   "source": [
    "1. Donner le nombre total de naissances avec un prénom féminin"
   ]
  },
  {
   "cell_type": "markdown",
   "metadata": {},
   "source": [
    "## DSL"
   ]
  },
  {
   "cell_type": "code",
   "execution_count": 37,
   "metadata": {},
   "outputs": [
    {
     "name": "stdout",
     "output_type": "stream",
     "text": [
      "+-----------+\n",
      "|sum(nombre)|\n",
      "+-----------+\n",
      "|      33273|\n",
      "+-----------+\n",
      "\n"
     ]
    }
   ],
   "source": [
    "//TODO"
   ]
  },
  {
   "cell_type": "markdown",
   "metadata": {},
   "source": [
    "## SQL"
   ]
  },
  {
   "cell_type": "code",
   "execution_count": 40,
   "metadata": {},
   "outputs": [
    {
     "name": "stdout",
     "output_type": "stream",
     "text": [
      "\r",
      "                                                                                \r",
      "+-----------+\n",
      "|sum(nombre)|\n",
      "+-----------+\n",
      "|      33273|\n",
      "+-----------+\n",
      "\n"
     ]
    }
   ],
   "source": [
    "//TODO"
   ]
  },
  {
   "cell_type": "markdown",
   "metadata": {},
   "source": [
    "1. Donner l'effectif maximal et minimal par prénom"
   ]
  },
  {
   "cell_type": "markdown",
   "metadata": {},
   "source": [
    "## DSL"
   ]
  },
  {
   "cell_type": "code",
   "execution_count": 43,
   "metadata": {},
   "outputs": [
    {
     "name": "stdout",
     "output_type": "stream",
     "text": [
      "+------------+----------+----------+\n",
      "|      prenom|min(nbmin)|max(nbmax)|\n",
      "+------------+----------+----------+\n",
      "|       NORIA|         3|         3|\n",
      "|        ANNA|         3|        55|\n",
      "|        JADE|         7|         7|\n",
      "|     L�ANDRE|         3|         3|\n",
      "|      ELIANE|         6|        39|\n",
      "|     MATTHEW|         4|         4|\n",
      "|      SALOM�|         6|        28|\n",
      "|    ALPHONSE|        24|        48|\n",
      "|      FRANCK|         3|       203|\n",
      "|       MORAD|         8|         8|\n",
      "|       MARAM|         3|         3|\n",
      "|       GRACE|         5|         5|\n",
      "|SAINTE-CROIX|         6|         6|\n",
      "|    FERNANDA|         3|         3|\n",
      "|        JO�L|         3|        48|\n",
      "|      ANNICK|         9|        66|\n",
      "|      LUCILE|         3|         3|\n",
      "|      SANDIE|         5|         5|\n",
      "|      AMEDEE|         5|         5|\n",
      "|       FABIO|         3|        26|\n",
      "+------------+----------+----------+\n",
      "only showing top 20 rows\n",
      "\n"
     ]
    }
   ],
   "source": [
    "//TODO"
   ]
  },
  {
   "cell_type": "markdown",
   "metadata": {},
   "source": [
    "## SQL"
   ]
  },
  {
   "cell_type": "code",
   "execution_count": 44,
   "metadata": {},
   "outputs": [
    {
     "name": "stdout",
     "output_type": "stream",
     "text": [
      "+------------+-----------+-----------+\n",
      "|      prenom|min(nombre)|max(nombre)|\n",
      "+------------+-----------+-----------+\n",
      "|       NORIA|          3|          3|\n",
      "|        ANNA|          3|         55|\n",
      "|        JADE|          7|          7|\n",
      "|     L�ANDRE|          3|          3|\n",
      "|      ELIANE|          6|         39|\n",
      "|     MATTHEW|          4|          4|\n",
      "|      SALOM�|          6|         28|\n",
      "|    ALPHONSE|         24|         48|\n",
      "|      FRANCK|          3|        203|\n",
      "|       MORAD|          8|          8|\n",
      "|       MARAM|          3|          3|\n",
      "|       GRACE|          5|          5|\n",
      "|SAINTE-CROIX|          6|          6|\n",
      "|    FERNANDA|          3|          3|\n",
      "|        JO�L|          3|         48|\n",
      "|      ANNICK|          9|         66|\n",
      "|      LUCILE|          3|          3|\n",
      "|      SANDIE|          5|          5|\n",
      "|      AMEDEE|          5|          5|\n",
      "|       FABIO|          3|         26|\n",
      "+------------+-----------+-----------+\n",
      "only showing top 20 rows\n",
      "\n"
     ]
    }
   ],
   "source": [
    "//TODO"
   ]
  },
  {
   "cell_type": "markdown",
   "metadata": {},
   "source": [
    "1. Donner, pour chaque nom de département, le nombre moyen de prénoms depuis l'année 2000"
   ]
  },
  {
   "cell_type": "markdown",
   "metadata": {},
   "source": [
    "## DSL"
   ]
  },
  {
   "cell_type": "code",
   "execution_count": 66,
   "metadata": {},
   "outputs": [
    {
     "name": "stdout",
     "output_type": "stream",
     "text": [
      "+--------------------+------------------+\n",
      "|                 nom|       avg(nombre)|\n",
      "+--------------------+------------------+\n",
      "|                 AIN|               6.5|\n",
      "|               AISNE| 7.714285714285714|\n",
      "|              ALLIER|               7.6|\n",
      "|ALPES-DE-HAUTE-PR...| 4.333333333333333|\n",
      "|     ALPES-MARITIMES|              14.0|\n",
      "|             ARDECHE| 9.666666666666666|\n",
      "|            ARDENNES|               3.0|\n",
      "|              ARIEGE|               5.0|\n",
      "|                AUBE|              10.0|\n",
      "|                AUDE|              11.4|\n",
      "|             AVEYRON|              8.75|\n",
      "|            BAS-RHIN|11.181818181818182|\n",
      "|    BOUCHES-DU-RHONE|              15.0|\n",
      "|            CALVADOS|               4.0|\n",
      "|              CANTAL|              7.25|\n",
      "|            CHARENTE| 6.857142857142857|\n",
      "|   CHARENTE-MARITIME|              14.0|\n",
      "|                CHER| 5.833333333333333|\n",
      "|             CORREZE| 9.833333333333334|\n",
      "|           COTE-D'OR|37.285714285714285|\n",
      "+--------------------+------------------+\n",
      "only showing top 20 rows\n",
      "\n"
     ]
    }
   ],
   "source": [
    "//TODO"
   ]
  },
  {
   "cell_type": "markdown",
   "metadata": {},
   "source": [
    "## SQL"
   ]
  },
  {
   "cell_type": "code",
   "execution_count": 65,
   "metadata": {},
   "outputs": [
    {
     "name": "stdout",
     "output_type": "stream",
     "text": [
      "+--------------------+------------------+\n",
      "|                 nom|       avg(nombre)|\n",
      "+--------------------+------------------+\n",
      "|                 AIN|               6.5|\n",
      "|               AISNE| 7.714285714285714|\n",
      "|              ALLIER|               7.6|\n",
      "|ALPES-DE-HAUTE-PR...| 4.333333333333333|\n",
      "|     ALPES-MARITIMES|              14.0|\n",
      "|             ARDECHE| 9.666666666666666|\n",
      "|            ARDENNES|               3.0|\n",
      "|              ARIEGE|               5.0|\n",
      "|                AUBE|              10.0|\n",
      "|                AUDE|              11.4|\n",
      "|             AVEYRON|              8.75|\n",
      "|            BAS-RHIN|11.181818181818182|\n",
      "|    BOUCHES-DU-RHONE|              15.0|\n",
      "|            CALVADOS|               4.0|\n",
      "|              CANTAL|              7.25|\n",
      "|            CHARENTE| 6.857142857142857|\n",
      "|   CHARENTE-MARITIME|              14.0|\n",
      "|                CHER| 5.833333333333333|\n",
      "|             CORREZE| 9.833333333333334|\n",
      "|           COTE-D'OR|37.285714285714285|\n",
      "+--------------------+------------------+\n",
      "only showing top 20 rows\n",
      "\n"
     ]
    }
   ],
   "source": [
    "//TODO"
   ]
  }
 ],
 "metadata": {
  "kernelspec": {
   "display_name": "Apache Toree - Scala",
   "language": "scala",
   "name": "apache_toree_scala"
  },
  "language_info": {
   "file_extension": ".scala",
   "name": "scala",
   "version": "2.11.8"
  }
 },
 "nbformat": 4,
 "nbformat_minor": 2
}
