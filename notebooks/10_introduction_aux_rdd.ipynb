{
 "cells": [
  {
   "cell_type": "markdown",
   "metadata": {},
   "source": [
    "# Une fonction pour simplifier l'accès aux données"
   ]
  },
  {
   "cell_type": "code",
   "execution_count": 2,
   "metadata": {},
   "outputs": [
    {
     "data": {
      "text/plain": [
       "extractField: (s: String, fieldNumber: Int)String\n"
      ]
     },
     "execution_count": 2,
     "metadata": {},
     "output_type": "execute_result"
    }
   ],
   "source": [
    "def extractField(s: String, fieldNumber: Int): String = {\n",
    "    val fields = s.split(';')\n",
    "    if (fieldNumber >= fields.length) \"\" else fields(fieldNumber)\n",
    "}"
   ]
  },
  {
   "cell_type": "code",
   "execution_count": 3,
   "metadata": {},
   "outputs": [
    {
     "name": "stdout",
     "output_type": "stream",
     "text": [
      "2\n",
      "CASSIOPEE\n",
      "2009\n",
      "33\n",
      "3\n",
      "\n"
     ]
    }
   ],
   "source": [
    "println(extractField(\"2;CASSIOPEE;2009;33;3\", 0))\n",
    "println(extractField(\"2;CASSIOPEE;2009;33;3\", 1))\n",
    "println(extractField(\"2;CASSIOPEE;2009;33;3\", 2))\n",
    "println(extractField(\"2;CASSIOPEE;2009;33;3\", 3))\n",
    "println(extractField(\"2;CASSIOPEE;2009;33;3\", 4))\n",
    "println(extractField(\"2;CASSIOPEE;2009;33;3\", 5))"
   ]
  },
  {
   "cell_type": "markdown",
   "metadata": {},
   "source": [
    "# Charger les données\n",
    "1. Créer le RDD `lignes` à partir du répertoire `prenoms_sample.txt`"
   ]
  },
  {
   "cell_type": "code",
   "execution_count": 1,
   "metadata": {},
   "outputs": [
    {
     "data": {
      "text/plain": [
       "Intitializing Scala interpreter ..."
      ]
     },
     "metadata": {},
     "output_type": "display_data"
    },
    {
     "data": {
      "text/plain": [
       "Spark Web UI available at http://ed87af3400ee:4040\n",
       "SparkContext available as 'sc' (version = 3.0.1, master = local[*], app id = local-1604931206604)\n",
       "SparkSession available as 'spark'\n"
      ]
     },
     "metadata": {},
     "output_type": "display_data"
    },
    {
     "name": "stdout",
     "output_type": "stream",
     "text": [
      "2;MELODY;1989;34;11\n",
      "2;MELODY;1992;92;12\n",
      "2;MÉLYNE;2014;22;3\n",
      "2;MERCEDES;1951;62;3\n",
      "2;MERCEDES;1953;59;3\n",
      "2;MERIAM;1994;59;6\n",
      "2;MERVE;1989;45;3\n",
      "2;MERYEM;1983;75;3\n",
      "2;MIA;2011;33;15\n",
      "2;MICHÈLE;1942;17;55\n"
     ]
    },
    {
     "data": {
      "text/plain": [
       "lignes: org.apache.spark.rdd.RDD[String] = prenoms_sample.txt MapPartitionsRDD[1] at textFile at <console>:25\n"
      ]
     },
     "execution_count": 1,
     "metadata": {},
     "output_type": "execute_result"
    }
   ],
   "source": [
    "val lignes = sc.textFile(\"prenoms_sample.txt\")\n",
    "lignes.take(10).foreach(println)"
   ]
  },
  {
   "cell_type": "markdown",
   "metadata": {},
   "source": [
    "# Transformer les lignes en prénoms\n",
    "1. En appliquant la méthode `map`, créer le RDD `prenoms` à partir de `lignes`"
   ]
  },
  {
   "cell_type": "code",
   "execution_count": 4,
   "metadata": {},
   "outputs": [
    {
     "name": "stdout",
     "output_type": "stream",
     "text": [
      "(2,MELODY,1989,34,11)\n",
      "(2,MELODY,1992,92,12)\n",
      "(2,MÉLYNE,2014,22,3)\n",
      "(2,MERCEDES,1951,62,3)\n",
      "(2,MERCEDES,1953,59,3)\n",
      "(2,MERIAM,1994,59,6)\n",
      "(2,MERVE,1989,45,3)\n",
      "(2,MERYEM,1983,75,3)\n",
      "(2,MIA,2011,33,15)\n",
      "(2,MICHÈLE,1942,17,55)\n"
     ]
    },
    {
     "data": {
      "text/plain": [
       "prenoms: org.apache.spark.rdd.RDD[(Char, String, Int, Int, Int)] = MapPartitionsRDD[2] at map at <console>:28\n"
      ]
     },
     "execution_count": 4,
     "metadata": {},
     "output_type": "execute_result"
    }
   ],
   "source": [
    "val prenoms = lignes.map(l => (\n",
    "    extractField(l, 0).charAt(0),\n",
    "    extractField(l, 1),\n",
    "    extractField(l, 2).toInt,\n",
    "    extractField(l, 3).toInt,\n",
    "    extractField(l, 4).toDouble.toInt\n",
    "))\n",
    "prenoms.take(10).foreach(println)"
   ]
  },
  {
   "cell_type": "markdown",
   "metadata": {},
   "source": [
    "# Interroger les données\n",
    "La documentation des méthodes d'un RDD est disponible ([RDD](https://spark.apache.org/docs/latest/api/scala/index.html#org.apache.spark.rdd.RDD), [PairRDDFunctions](https://spark.apache.org/docs/latest/api/scala/index.html#org.apache.spark.rdd.PairRDDFunctions)).\n",
    "\n",
    "1. Rappeler ce que sont les *transformations* et les *actions*\n",
    "1. Donner, pour chaque prénom, son nombre d'occurences (`map` et `reduceByKey`)"
   ]
  },
  {
   "cell_type": "code",
   "execution_count": 1,
   "metadata": {},
   "outputs": [
    {
     "data": {
      "text/plain": [
       "Name: Syntax Error.\n",
       "Message: \n",
       "StackTrace: "
      ]
     },
     "execution_count": 1,
     "metadata": {},
     "output_type": "execute_result"
    }
   ],
   "source": [
    "//TODO"
   ]
  },
  {
   "cell_type": "markdown",
   "metadata": {},
   "source": [
    "1. Donner le nombre total de naissances avec un prénom féminin (`filter`, `map`, `reduce` ou `sum`)"
   ]
  },
  {
   "cell_type": "code",
   "execution_count": 2,
   "metadata": {},
   "outputs": [
    {
     "data": {
      "text/plain": [
       "Name: Syntax Error.\n",
       "Message: \n",
       "StackTrace: "
      ]
     },
     "execution_count": 2,
     "metadata": {},
     "output_type": "execute_result"
    }
   ],
   "source": [
    "//TODO"
   ]
  },
  {
   "cell_type": "markdown",
   "metadata": {},
   "source": [
    "1. Donner l'effectif maximal et minimal par prénom (`map`, `aggregateByKey`)"
   ]
  },
  {
   "cell_type": "code",
   "execution_count": 3,
   "metadata": {},
   "outputs": [
    {
     "data": {
      "text/plain": [
       "Name: Syntax Error.\n",
       "Message: \n",
       "StackTrace: "
      ]
     },
     "execution_count": 3,
     "metadata": {},
     "output_type": "execute_result"
    }
   ],
   "source": [
    "//TODO"
   ]
  },
  {
   "cell_type": "markdown",
   "metadata": {},
   "source": [
    "1. Sur le modèle des prénoms, charger les données des départements\n",
    "1. Donner, pour chaque nom de département, le prénom le plus fréquent depuis l'année 2000"
   ]
  },
  {
   "cell_type": "code",
   "execution_count": 4,
   "metadata": {},
   "outputs": [
    {
     "data": {
      "text/plain": [
       "Name: Syntax Error.\n",
       "Message: \n",
       "StackTrace: "
      ]
     },
     "execution_count": 4,
     "metadata": {},
     "output_type": "execute_result"
    }
   ],
   "source": [
    "//TODO"
   ]
  },
  {
   "cell_type": "code",
   "execution_count": 5,
   "metadata": {},
   "outputs": [
    {
     "data": {
      "text/plain": [
       "Name: Syntax Error.\n",
       "Message: \n",
       "StackTrace: "
      ]
     },
     "execution_count": 5,
     "metadata": {},
     "output_type": "execute_result"
    }
   ],
   "source": [
    "//TODO"
   ]
  }
 ],
 "metadata": {
  "kernelspec": {
   "display_name": "spylon-kernel",
   "language": "scala",
   "name": "spylon-kernel"
  },
  "language_info": {
   "codemirror_mode": "text/x-scala",
   "file_extension": ".scala",
   "help_links": [
    {
     "text": "MetaKernel Magics",
     "url": "https://metakernel.readthedocs.io/en/latest/source/README.html"
    }
   ],
   "mimetype": "text/x-scala",
   "name": "scala",
   "pygments_lexer": "scala",
   "version": "0.4.1"
  }
 },
 "nbformat": 4,
 "nbformat_minor": 2
}
