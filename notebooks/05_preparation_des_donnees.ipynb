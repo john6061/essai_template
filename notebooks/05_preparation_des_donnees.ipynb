{
 "cells": [
  {
   "cell_type": "markdown",
   "metadata": {},
   "source": [
    "# Vérifier le contenu du fichier"
   ]
  },
  {
   "cell_type": "code",
   "execution_count": 1,
   "metadata": {},
   "outputs": [
    {
     "data": {
      "text/plain": [
       "Intitializing Scala interpreter ..."
      ]
     },
     "metadata": {},
     "output_type": "display_data"
    },
    {
     "data": {
      "text/plain": [
       "Spark Web UI available at http://ed87af3400ee:4040\n",
       "SparkContext available as 'sc' (version = 3.0.1, master = local[*], app id = local-1604931102965)\n",
       "SparkSession available as 'spark'\n"
      ]
     },
     "metadata": {},
     "output_type": "display_data"
    },
    {
     "data": {
      "text/plain": [
       "prenoms: org.apache.spark.rdd.RDD[String] = prenoms.txt MapPartitionsRDD[1] at textFile at <console>:25\n",
       "res0: Array[String] = Array(2;MARIE-CLAUDE;1947;30;30, 2;AURORE;1979;42;16, 1;EDOUARD;1991;01;6, 2;SIMONNE;1942;59;15, 1;HENRI;1993;64;5, 2;SYLVIA;1958;16;4, 2;CORALIE;1984;45;21, 2;VANESSA;1974;65;3, 2;ANDRÉA;1995;973;5, 1;NADIM;2013;69;5)\n"
      ]
     },
     "execution_count": 1,
     "metadata": {},
     "output_type": "execute_result"
    }
   ],
   "source": [
    "val prenoms = sc.textFile(\"prenoms.txt\")\n",
    "prenoms.takeSample(false, 10)"
   ]
  },
  {
   "cell_type": "markdown",
   "metadata": {},
   "source": [
    "# Extraire et sauvegarder un échantillon\n",
    "1. Expliquer ce que fait la ligne suivante"
   ]
  },
  {
   "cell_type": "code",
   "execution_count": 2,
   "metadata": {},
   "outputs": [],
   "source": [
    "prenoms.filter(l => l.startsWith(\"sexe\") == false).filter(l => l.contains(\"XX\") == false).sample(false, .001).saveAsTextFile(\"prenoms_sample.txt\")"
   ]
  },
  {
   "cell_type": "markdown",
   "metadata": {},
   "source": [
    "RÉPONDRE ICI"
   ]
  },
  {
   "cell_type": "markdown",
   "metadata": {},
   "source": [
    "# Vérifier l'échantillon"
   ]
  },
  {
   "cell_type": "code",
   "execution_count": 3,
   "metadata": {},
   "outputs": [
    {
     "name": "stdout",
     "output_type": "stream",
     "text": [
      "3555\n",
      "0\n",
      "0\n"
     ]
    },
    {
     "data": {
      "text/plain": [
       "echantillon: org.apache.spark.rdd.RDD[String] = prenoms_sample.txt MapPartitionsRDD[8] at textFile at <console>:25\n"
      ]
     },
     "execution_count": 3,
     "metadata": {},
     "output_type": "execute_result"
    }
   ],
   "source": [
    "val echantillon = sc.textFile(\"prenoms_sample.txt\")\n",
    "println(echantillon.count)\n",
    "println(echantillon.filter(l => l.startsWith(\"sexe\")).count)\n",
    "println(echantillon.filter(l => l.contains(\"XX\")).count)"
   ]
  }
 ],
 "metadata": {
  "kernelspec": {
   "display_name": "spylon-kernel",
   "language": "scala",
   "name": "spylon-kernel"
  },
  "language_info": {
   "codemirror_mode": "text/x-scala",
   "file_extension": ".scala",
   "help_links": [
    {
     "text": "MetaKernel Magics",
     "url": "https://metakernel.readthedocs.io/en/latest/source/README.html"
    }
   ],
   "mimetype": "text/x-scala",
   "name": "scala",
   "pygments_lexer": "scala",
   "version": "0.4.1"
  }
 },
 "nbformat": 4,
 "nbformat_minor": 2
}
